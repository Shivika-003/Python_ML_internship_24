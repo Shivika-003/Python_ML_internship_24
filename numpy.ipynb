{
 "cells": [
  {
   "cell_type": "code",
   "execution_count": 7,
   "id": "dd7450ba-4b61-4e2b-9c97-e9c69a4ccbca",
   "metadata": {},
   "outputs": [
    {
     "name": "stdout",
     "output_type": "stream",
     "text": [
      "Mean score of each subject: [86.2 88.8 85.8]\n",
      "Median score of each student: [85. 92. 85. 90. 88.]\n",
      "Scores of the student with the highest total score: [92 98 85]\n",
      "Minimum scores in each subject: [76 76 78]\n",
      "Maximum scores in each subject: [92 98 92]\n",
      "Reshaped array (3, 5):\n",
      "[[85 92 76 90 88]\n",
      " [90 98 95 85 76]\n",
      " [78 85 85 92 89]]\n",
      "Sorted scores of each subject:\n",
      "[[76 76 78]\n",
      " [85 85 85]\n",
      " [88 90 85]\n",
      " [90 95 89]\n",
      " [92 98 92]]\n"
     ]
    }
   ],
   "source": [
    "import numpy as np\n",
    "scores = np.array([[85, 90, 78],\n",
    "                   [92, 98, 85],\n",
    "                   [76, 95, 85],\n",
    "                   [90, 85, 92],\n",
    "                   [88, 76, 89]])\n",
    "\n",
    "# 1. Calculate the mean score of each subject (across all students)\n",
    "mean_scores = np.mean(scores, axis=0)\n",
    "print(\"Mean score of each subject:\", mean_scores)\n",
    "\n",
    "# 2. Find the median score of each student (across all subjects)\n",
    "median_scores = np.median(scores, axis=1)\n",
    "print(\"Median score of each student:\", median_scores)\n",
    "\n",
    "# 3. Extract the scores of the student with the highest total score (sum of all subjects)\n",
    "total_scores = np.sum(scores, axis=1)\n",
    "highest_score_index = np.argmax(total_scores)\n",
    "highest_score_student = scores[highest_score_index]\n",
    "print(\"Scores of the student with the highest total score:\", highest_score_student)\n",
    "\n",
    "# 4. Find the minimum and maximum scores in each subject\n",
    "min_scores = np.min(scores, axis=0)\n",
    "max_scores = np.max(scores, axis=0)\n",
    "print(\"Minimum scores in each subject:\", min_scores)\n",
    "print(\"Maximum scores in each subject:\", max_scores)\n",
    "\n",
    "# 5. Reshape the array to have shape (3, 5), where each row represents a subject and each column represents a student\n",
    "reshaped_scores = scores.T  # Transposing will achieve this directly\n",
    "print(\"Reshaped array (3, 5):\")\n",
    "print(reshaped_scores)\n",
    "\n",
    "# 6. Sort the scores of each subject in ascending order\n",
    "sorted_scores = np.sort(scores, axis=0)\n",
    "print(\"Sorted scores of each subject:\")\n",
    "print(sorted_scores)\n",
    "\n",
    "\n"
   ]
  },
  {
   "cell_type": "code",
   "execution_count": null,
   "id": "324d0d38-00e9-4b6a-b325-9ea9c173bffc",
   "metadata": {},
   "outputs": [],
   "source": []
  }
 ],
 "metadata": {
  "kernelspec": {
   "display_name": "Python 3 (ipykernel)",
   "language": "python",
   "name": "python3"
  },
  "language_info": {
   "codemirror_mode": {
    "name": "ipython",
    "version": 3
   },
   "file_extension": ".py",
   "mimetype": "text/x-python",
   "name": "python",
   "nbconvert_exporter": "python",
   "pygments_lexer": "ipython3",
   "version": "3.12.4"
  }
 },
 "nbformat": 4,
 "nbformat_minor": 5
}
