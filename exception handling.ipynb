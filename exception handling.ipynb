{
 "cells": [
  {
   "cell_type": "code",
   "execution_count": 10,
   "id": "447a5c9f-18ef-4d8f-84a5-ffee253c8595",
   "metadata": {
    "scrolled": true
   },
   "outputs": [
    {
     "name": "stdout",
     "output_type": "stream",
     "text": [
      "hello world\n",
      "4\n",
      "6\n",
      "end of code\n"
     ]
    }
   ],
   "source": [
    "print (\"hello world\")\n",
    "\n",
    "L=[1,2,3,4,5,6]\n",
    "print (L[3])\n",
    "try:\n",
    "    print(L[5])\n",
    "except:\n",
    "    print(\"invalid inder\")\n",
    "finally:\n",
    "    print(\"end of code\")"
   ]
  },
  {
   "cell_type": "code",
   "execution_count": 9,
   "id": "18474013-f59e-434f-8aeb-2786357a027e",
   "metadata": {},
   "outputs": [
    {
     "name": "stdout",
     "output_type": "stream",
     "text": [
      "0.5\n",
      "code executed successfully\n"
     ]
    }
   ],
   "source": [
    "a=10\n",
    "b=20\n",
    "try:\n",
    "    print(a/b)\n",
    "except:\n",
    "    print(\"b can't be zero\")\n",
    "finally:\n",
    "    print (\"code executed successfully\")\n",
    "    "
   ]
  },
  {
   "cell_type": "code",
   "execution_count": 15,
   "id": "6e071956-4666-459a-9431-77153c12e080",
   "metadata": {},
   "outputs": [
    {
     "name": "stdout",
     "output_type": "stream",
     "text": [
      "2.0\n",
      "code executed successfully\n"
     ]
    }
   ],
   "source": [
    "# ZeroDivision Error\n",
    "# only except error carrying  Zero(0).\n",
    "a=10\n",
    "b=5\n",
    "try:\n",
    "    print(a/b)\n",
    "except ZeroDivisionError:\n",
    "    print(\"b can't be zero\")\n",
    "finally:\n",
    "    print (\"code executed successfully\")\n",
    "    "
   ]
  },
  {
   "cell_type": "code",
   "execution_count": 17,
   "id": "538326dc-d572-44d2-9250-9cbb59585e33",
   "metadata": {},
   "outputs": [
    {
     "name": "stdout",
     "output_type": "stream",
     "text": [
      "1.6666666666666667\n",
      "list index out of range\n",
      "code executed successfully\n"
     ]
    }
   ],
   "source": [
    "#Exception as e\n",
    "a=10\n",
    "b=6\n",
    "try:\n",
    "    print(a/b)\n",
    "    L[8]\n",
    "except Exception as e:\n",
    "    print(e)\n",
    "finally:\n",
    "    print (\"code executed successfully\")\n",
    "\n",
    "    "
   ]
  },
  {
   "cell_type": "code",
   "execution_count": null,
   "id": "535ec6a4-4e68-4c04-afc2-6429fb325a34",
   "metadata": {},
   "outputs": [],
   "source": [
    "# #gfcghvhjbkjb\n",
    "# vjhvbkjnkln"
   ]
  }
 ],
 "metadata": {
  "kernelspec": {
   "display_name": "Python 3 (ipykernel)",
   "language": "python",
   "name": "python3"
  },
  "language_info": {
   "codemirror_mode": {
    "name": "ipython",
    "version": 3
   },
   "file_extension": ".py",
   "mimetype": "text/x-python",
   "name": "python",
   "nbconvert_exporter": "python",
   "pygments_lexer": "ipython3",
   "version": "3.12.4"
  }
 },
 "nbformat": 4,
 "nbformat_minor": 5
}
